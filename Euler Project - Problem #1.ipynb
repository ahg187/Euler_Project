{
 "cells": [
  {
   "cell_type": "code",
   "execution_count": 1,
   "metadata": {
    "collapsed": true
   },
   "outputs": [],
   "source": [
    "import numpy as np"
   ]
  },
  {
   "cell_type": "code",
   "execution_count": 53,
   "metadata": {
    "collapsed": false
   },
   "outputs": [],
   "source": [
    "mult_of_3 = [3]\n",
    "mult_of_5 = [5]\n",
    "target = 1000\n",
    "\n",
    "i=2\n",
    "while max(mult_of_3)<1000:\n",
    "    val = i*3\n",
    "    if val >= 1000:\n",
    "        break\n",
    "    else:\n",
    "        mult_of_3.append(val)\n",
    "    i += 1\n",
    "    \n",
    "i=2\n",
    "while max(mult_of_5)<1000:\n",
    "    val = i*5\n",
    "    if val >= 1000:\n",
    "        break\n",
    "    else:\n",
    "        mult_of_5.append(val)\n",
    "    i += 1"
   ]
  },
  {
   "cell_type": "code",
   "execution_count": 56,
   "metadata": {
    "collapsed": false
   },
   "outputs": [
    {
     "data": {
      "text/plain": [
       "233168"
      ]
     },
     "execution_count": 56,
     "metadata": {},
     "output_type": "execute_result"
    }
   ],
   "source": [
    "arr = mult_of_3 + mult_of_5\n",
    "arr = np.array(arr)\n",
    "arr = np.sort(arr)\n",
    "arr = np.unique(arr)\n",
    "np.sum(arr)"
   ]
  },
  {
   "cell_type": "code",
   "execution_count": 27,
   "metadata": {
    "collapsed": false
   },
   "outputs": [
    {
     "data": {
      "text/plain": [
       "266333"
      ]
     },
     "execution_count": 27,
     "metadata": {},
     "output_type": "execute_result"
    }
   ],
   "source": [
    "sum = np.sum(mult_of_3) + np.sum(mult_of_5)\n",
    "sum"
   ]
  }
 ],
 "metadata": {
  "anaconda-cloud": {},
  "kernelspec": {
   "display_name": "Python [conda env:euler]",
   "language": "python",
   "name": "conda-env-euler-py"
  },
  "language_info": {
   "codemirror_mode": {
    "name": "ipython",
    "version": 3.0
   },
   "file_extension": ".py",
   "mimetype": "text/x-python",
   "name": "python",
   "nbconvert_exporter": "python",
   "pygments_lexer": "ipython3",
   "version": "3.4.5"
  }
 },
 "nbformat": 4,
 "nbformat_minor": 0
}