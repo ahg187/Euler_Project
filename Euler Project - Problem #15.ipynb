{
 "cells": [
  {
   "cell_type": "code",
   "execution_count": 5,
   "metadata": {
    "collapsed": true
   },
   "outputs": [],
   "source": [
    "import numpy as np\n",
    "\n",
    "def lattice_paths(n=3):\n",
    "    \n",
    "    # store all nodes of lattice in a (n+1)x(n+1) matrix.\n",
    "    # each node takes on the value of subpaths that lead to that node\n",
    "    \n",
    "    \n",
    "    X = np.zeros((n+1,n+1))\n",
    "    \n",
    "    # initialize algorithm with step-1 paths\n",
    "    X[:,0] = np.ones(n+1)\n",
    "    X[0,:] = np.ones(n+1)\n",
    "    \n",
    "    # sum up neighboring nodes / no backward moves\n",
    "    for col in range(1,n+1):\n",
    "        for row in range(1,n+1):\n",
    "            X[row,col] = X[row,col-1]+X[row-1,col]\n",
    "    \n",
    "    return X[n,n]"
   ]
  },
  {
   "cell_type": "code",
   "execution_count": 7,
   "metadata": {},
   "outputs": [
    {
     "data": {
      "text/plain": [
       "137846528820.0"
      ]
     },
     "execution_count": 7,
     "metadata": {},
     "output_type": "execute_result"
    }
   ],
   "source": [
    "lattice_paths(20)"
   ]
  }
 ],
 "metadata": {
  "kernelspec": {
   "display_name": "Python 2",
   "language": "python",
   "name": "python2"
  },
  "language_info": {
   "codemirror_mode": {
    "name": "ipython",
    "version": 2.0
   },
   "file_extension": ".py",
   "mimetype": "text/x-python",
   "name": "python",
   "nbconvert_exporter": "python",
   "pygments_lexer": "ipython2",
   "version": "2.7.6"
  }
 },
 "nbformat": 4,
 "nbformat_minor": 0
}