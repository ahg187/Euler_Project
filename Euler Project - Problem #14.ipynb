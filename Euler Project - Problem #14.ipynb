{
 "cells": [
  {
   "cell_type": "code",
   "execution_count": 5,
   "metadata": {
    "collapsed": true
   },
   "outputs": [],
   "source": [
    "def collatz_length(n):\n",
    "    collatz_seq = [n]\n",
    "    while n >= 1:\n",
    "        if n == 1:\n",
    "            break\n",
    "        elif n % 2 == 0:\n",
    "            n /= 2\n",
    "        else:\n",
    "            n = 3*n +1\n",
    "        collatz_seq.append(n)\n",
    "        #print(collatz_seq)\n",
    "    return len(collatz_seq)"
   ]
  },
  {
   "cell_type": "code",
   "execution_count": 9,
   "metadata": {},
   "outputs": [
    {
     "name": "stdout",
     "output_type": "stream",
     "text": [
      "837799 525\n"
     ]
    }
   ],
   "source": [
    "n_start = 0\n",
    "len_max = 0\n",
    "\n",
    "for num in range(1,1000000):\n",
    "    len_tmp = collatz_length(num)\n",
    "    if len_tmp > len_max:\n",
    "        n_start = num\n",
    "        len_max = len_tmp\n",
    "        \n",
    "\n",
    "print(n_start, len_max)"
   ]
  },
  {
   "cell_type": "code",
   "execution_count": 10,
   "metadata": {},
   "outputs": [
    {
     "data": {
      "text/plain": [
       "525"
      ]
     },
     "execution_count": 10,
     "metadata": {},
     "output_type": "execute_result"
    }
   ],
   "source": [
    ""
   ]
  }
 ],
 "metadata": {
  "kernelspec": {
   "display_name": "Python 2",
   "language": "python",
   "name": "python2"
  },
  "language_info": {
   "codemirror_mode": {
    "name": "ipython",
    "version": 2.0
   },
   "file_extension": ".py",
   "mimetype": "text/x-python",
   "name": "python",
   "nbconvert_exporter": "python",
   "pygments_lexer": "ipython2",
   "version": "2.7.6"
  }
 },
 "nbformat": 4,
 "nbformat_minor": 0
}